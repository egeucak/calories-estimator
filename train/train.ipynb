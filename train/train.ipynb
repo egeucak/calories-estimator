{
  "nbformat": 4,
  "nbformat_minor": 0,
  "metadata": {
    "colab": {
      "name": "train.ipynb",
      "version": "0.3.2",
      "provenance": [],
      "collapsed_sections": []
    },
    "language_info": {
      "codemirror_mode": {
        "name": "ipython",
        "version": 3
      },
      "file_extension": ".py",
      "mimetype": "text/x-python",
      "name": "python",
      "nbconvert_exporter": "python",
      "pygments_lexer": "ipython3",
      "version": "3.6.6"
    },
    "kernelspec": {
      "display_name": "Python 3",
      "language": "python",
      "name": "python3"
    }
  },
  "cells": [
    {
      "cell_type": "code",
      "metadata": {
        "id": "sWzcGYl9Ezk4",
        "colab_type": "code",
        "colab": {}
      },
      "source": [
        "%matplotlib inline"
      ],
      "execution_count": 0,
      "outputs": []
    },
    {
      "cell_type": "code",
      "metadata": {
        "id": "sm0x7BQ1Ezk_",
        "colab_type": "code",
        "colab": {}
      },
      "source": [
        "# License: BSD\n",
        "# Author: Sasank Chilamkurthy\n",
        "\n",
        "from __future__ import print_function, division\n",
        "\n",
        "import torch\n",
        "import torch.nn as nn\n",
        "import torch.optim as optim\n",
        "from torch.utils.data import Dataset, DataLoader\n",
        "from torch.optim import lr_scheduler\n",
        "import numpy as np\n",
        "import pandas as pd\n",
        "import torchvision\n",
        "from torchvision import datasets, models, transforms\n",
        "import matplotlib.pyplot as plt\n",
        "from google.colab import drive\n",
        "import time\n",
        "import os\n",
        "import copy\n",
        "import random\n",
        "from functools import reduce\n",
        "from skimage import io, transform\n",
        "from sklearn.preprocessing import MinMaxScaler\n",
        "\n",
        "plt.ion()   # interactive mode"
      ],
      "execution_count": 0,
      "outputs": []
    },
    {
      "cell_type": "code",
      "metadata": {
        "id": "UV084TWiYUxU",
        "colab_type": "code",
        "colab": {
          "base_uri": "https://localhost:8080/",
          "height": 34
        },
        "outputId": "397943d1-cdb7-4aed-b3d0-bb7072b36b61"
      },
      "source": [
        "drive.mount('/content/drive', force_remount=True)"
      ],
      "execution_count": 129,
      "outputs": [
        {
          "output_type": "stream",
          "text": [
            "Mounted at /content/drive\n"
          ],
          "name": "stdout"
        }
      ]
    },
    {
      "cell_type": "code",
      "metadata": {
        "id": "Pn1qlLypLMyX",
        "colab_type": "code",
        "colab": {}
      },
      "source": [
        "root_folder = 'drive/My Drive/computer-vision/project'"
      ],
      "execution_count": 0,
      "outputs": []
    },
    {
      "cell_type": "code",
      "metadata": {
        "id": "tdN7-uo3K1RT",
        "colab_type": "code",
        "colab": {}
      },
      "source": [
        "flatten = lambda l: [item for sublist in l for item in sublist]\n",
        "def clear_non_ascii(word):\n",
        "    res = ''\n",
        "    for letter in word:\n",
        "        if (ord(letter) < 128):\n",
        "            res += letter\n",
        "    return res\n",
        "\n",
        "class ToTensor(object):\n",
        "    \"\"\"Convert ndarrays in sample to Tensors.\"\"\"\n",
        "\n",
        "    def __call__(self, sample):\n",
        "        image, ingredients, nutritions = sample['image'], sample['ingredients'], sample['nutritions']\n",
        "\n",
        "        # swap color axis because\n",
        "        # numpy image: H x W x C\n",
        "        # torch image: C X H X W\n",
        "        image = image.transpose((2, 0, 1))\n",
        "        return {'image': torch.from_numpy(image),\n",
        "                'ingredients': torch.from_numpy(ingredients),\n",
        "                'nutritions': torch.from_numpy(nutritions)}\n",
        "\n",
        "class FoodDataset(Dataset):\n",
        "    def __init__(self, root_dir, transform=None):\n",
        "        self.root_dir = root_dir\n",
        "        self.transform = transform\n",
        "        self.images = None\n",
        "        self.metadata = None\n",
        "        self.ingredients = None\n",
        "        self.prepare_metadata()\n",
        "\n",
        "    def __len__(self):\n",
        "        return len(self.images)\n",
        "\n",
        "    def __getitem__(self, idx):\n",
        "        row = self.images.iloc[idx]\n",
        "        im_name, im_class = row['image_name'], row['class']\n",
        "        image = io.imread(os.path.join(self.root_dir, 'downloads', im_class, im_name))\n",
        "        rows = self.metadata[self.metadata['name'] == im_class.strip()]\n",
        "        row = rows.iloc[random.choice(list(range(len(rows))))].to_dict() # random.choice is for getting a random row if there are more than 1 recipes sharing one name\n",
        "        ingredients = self.ingredient_to_sparse(row['ingredients'])\n",
        "        del row['image']\n",
        "        del row['ingredients']\n",
        "        del row['name']\n",
        "        nutritions = self.nutritions_to_array(row)\n",
        "        sample = {\n",
        "            'image': image,\n",
        "            'nutritions': nutritions,\n",
        "            'ingredients': ingredients\n",
        "        }\n",
        "        if self.transform:\n",
        "            sample = self.transform(sample)\n",
        "        return sample\n",
        "    \n",
        "    def ingredient_to_sparse(self, target_ingredients):\n",
        "        zero_array = np.zeros(len(self.ingredients), dtype=int)\n",
        "        ingredient_locations = map(lambda string: self.ingredients.index(string), target_ingredients)\n",
        "        for loc in list(ingredient_locations):\n",
        "            zero_array[loc] = 1\n",
        "        return zero_array\n",
        "    \n",
        "    def nutritions_to_array(self, row):\n",
        "        calories, carbs, fat, protein = row['calories'], row['carbs'], row['fat'], row['protein']\n",
        "        as_array = np.array([calories, carbs, fat, protein])\n",
        "        return as_array\n",
        "      \n",
        "    def prepare_metadata(self):\n",
        "        food = pd.read_csv(os.path.join(self.root_dir, 'data1.csv'))\n",
        "        food['ingredients'] = food['ingredients'].apply(lambda cell: cell.split('|'))\n",
        "        food['name'] = food['name'].apply(lambda cell: cell.replace('\\\"', '')) # Some cells contain \" which causes problems with the file system\n",
        "        food['name'] = food['name'].apply(lambda cell: cell.replace('/', '_')) # Some cells contain / which causes problems with the file system\n",
        "        food['name'] = food['name'].apply(lambda cell: cell.replace('  ', ' ')) # Some cells has 2 spaces instead 1 one\n",
        "        food['name'] = food['name'].apply(lambda cell: clear_non_ascii(cell))\n",
        "        \n",
        "        scaler = MinMaxScaler()\n",
        "        food[['calories', 'fat', 'carbs', 'protein']] = scaler.fit_transform(food[['calories', 'fat', 'carbs', 'protein']])\n",
        "        self.scaler = scaler\n",
        "        \n",
        "        ingredients = list(set(flatten(list(food['ingredients']))))\n",
        "        self.metadata = food\n",
        "        self.ingredients = sorted(ingredients)\n",
        "\n",
        "        rows = []\n",
        "        \n",
        "        for name in os.listdir(os.path.join(self.root_dir, 'downloads')):\n",
        "            row = food[food['name']==name.strip()]\n",
        "            if not len(row): continue\n",
        "            images = os.listdir(os.path.join(self.root_dir, 'downloads', name))\n",
        "            new_row = list(map(lambda im: [im, name], images))\n",
        "            rows.extend(new_row)\n",
        "\n",
        "        df = pd.DataFrame(rows, columns=['image_name', 'class'])\n",
        "        self.images = df"
      ],
      "execution_count": 0,
      "outputs": []
    },
    {
      "cell_type": "code",
      "metadata": {
        "id": "U5Zge_83tnEm",
        "colab_type": "code",
        "colab": {}
      },
      "source": [
        "image_dataset = FoodDataset(root_folder, transform=transforms.Compose([\n",
        "    ToTensor()\n",
        "]))"
      ],
      "execution_count": 0,
      "outputs": []
    },
    {
      "cell_type": "code",
      "metadata": {
        "id": "vKglID_GAKoI",
        "colab_type": "code",
        "colab": {
          "base_uri": "https://localhost:8080/",
          "height": 1105
        },
        "outputId": "93d6d70f-3200-441a-c59b-fb64203de8ed"
      },
      "source": [
        "image_dataset[1]"
      ],
      "execution_count": 174,
      "outputs": [
        {
          "output_type": "execute_result",
          "data": {
            "text/plain": [
              "{'image': tensor([[[  8,   0,  28,  ..., 231, 230, 230],\n",
              "          [ 27,  22,  16,  ..., 231, 230, 230],\n",
              "          [ 47,  49,  16,  ..., 231, 230, 230],\n",
              "          ...,\n",
              "          [ 59,  31,  10,  ...,  24,  26,  24],\n",
              "          [  1,   8,  47,  ...,  34,  46,  13],\n",
              "          [ 10,   2, 101,  ...,  70, 118,  80]],\n",
              " \n",
              "         [[ 20,   8,  40,  ..., 231, 230, 230],\n",
              "          [ 41,  36,  30,  ..., 231, 230, 230],\n",
              "          [ 62,  64,  31,  ..., 231, 230, 230],\n",
              "          ...,\n",
              "          [ 46,  20,   0,  ...,  19,  21,  19],\n",
              "          [  0,   3,  42,  ...,  29,  41,   8],\n",
              "          [  7,   0,  99,  ...,  65, 113,  75]],\n",
              " \n",
              "         [[ 46,  32,  64,  ..., 229, 228, 228],\n",
              "          [ 68,  62,  56,  ..., 229, 228, 228],\n",
              "          [ 91,  93,  60,  ..., 229, 228, 228],\n",
              "          ...,\n",
              "          [ 64,  37,  16,  ...,  39,  41,  39],\n",
              "          [ 19,  26,  64,  ...,  51,  63,  30],\n",
              "          [ 34,  26, 123,  ...,  87, 135,  98]]], dtype=torch.uint8),\n",
              " 'ingredients': tensor([0, 0, 0, 0, 0, 0, 0, 0, 0, 0, 0, 0, 0, 0, 0, 0, 0, 0, 0, 0, 0, 0, 0, 0,\n",
              "         0, 0, 0, 0, 0, 0, 0, 0, 0, 0, 0, 0, 0, 0, 0, 0, 0, 0, 0, 0, 0, 0, 0, 0,\n",
              "         0, 0, 0, 0, 0, 0, 0, 0, 0, 0, 0, 0, 0, 0, 0, 0, 0, 0, 0, 0, 0, 0, 0, 0,\n",
              "         0, 0, 0, 0, 0, 0, 0, 0, 0, 0, 0, 0, 0, 0, 0, 0, 0, 0, 0, 0, 0, 0, 0, 0,\n",
              "         0, 0, 0, 0, 0, 0, 0, 0, 0, 0, 0, 1, 0, 0, 0, 0, 0, 0, 0, 0, 0, 0, 0, 0,\n",
              "         0, 0, 0, 0, 0, 0, 0, 0, 0, 0, 0, 0, 0, 0, 0, 0, 0, 0, 0, 0, 0, 0, 0, 0,\n",
              "         0, 0, 0, 0, 0, 0, 0, 0, 0, 0, 0, 0, 0, 0, 0, 0, 0, 0, 0, 0, 0, 0, 0, 0,\n",
              "         0, 0, 0, 0, 0, 0, 0, 0, 0, 0, 0, 0, 0, 0, 0, 0, 0, 0, 0, 0, 0, 0, 0, 0,\n",
              "         0, 0, 0, 0, 0, 0, 0, 0, 0, 0, 0, 0, 0, 0, 0, 0, 0, 0, 0, 0, 0, 0, 0, 0,\n",
              "         0, 1, 0, 0, 0, 0, 0, 0, 0, 0, 0, 0, 0, 0, 0, 0, 1, 0, 0, 0, 0, 0, 0, 0,\n",
              "         0, 0, 0, 0, 0, 0, 0, 0, 0, 0, 0, 0, 0, 0, 0, 0, 0, 0, 0, 0, 0, 0, 0, 0,\n",
              "         0, 0, 0, 0, 0, 0, 0, 0, 0, 0, 0, 0, 0, 0, 0, 0, 0, 0, 0, 0, 0, 0, 0, 0,\n",
              "         0, 0, 0, 0, 0, 0, 0, 0, 0, 0, 0, 0, 0, 0, 0, 0, 0, 0, 0, 0, 0, 0, 0, 0,\n",
              "         0, 0, 0, 0, 0, 0, 0, 0, 0, 0, 0, 0, 0, 0, 0, 0, 0, 0, 0, 0, 0, 0, 0, 0,\n",
              "         0, 0, 0, 0, 0, 0, 0, 0, 0, 0, 0, 0, 0, 0, 0, 0, 0, 0, 0, 0, 0, 0, 0, 0,\n",
              "         0, 0, 0, 0, 0, 0, 0, 0, 0, 0, 0, 0, 0, 0, 0, 0, 0, 0, 0, 0, 0, 0, 0, 0,\n",
              "         0, 0, 0, 0, 0, 0, 0, 0, 0, 0, 0, 0, 0, 0, 0, 0, 0, 0, 0, 0, 0, 0, 0, 0,\n",
              "         0, 0, 0, 0, 0, 0, 0, 0, 0, 0, 0, 0, 0, 0, 0, 0, 0, 0, 0, 0, 0, 0, 1, 0,\n",
              "         1, 0, 0, 0, 0, 0, 0, 0, 0, 0, 0, 0, 0, 0, 0, 0, 0, 0, 0, 0, 0, 0, 0, 0,\n",
              "         0, 0, 0, 0, 0, 0, 0, 0, 0, 0, 1, 0, 0, 0, 0, 0, 0, 0, 0, 0, 0, 0, 0, 0,\n",
              "         0, 0, 0, 0, 0, 0, 0, 0, 0, 0, 0, 0, 0, 0, 0, 0, 0, 0, 0, 0, 0, 0, 0, 0,\n",
              "         0, 0, 0, 0, 0, 0, 0, 0, 0, 0, 0, 0, 0, 0, 0, 0, 0, 0, 0, 0, 0, 0, 0, 0,\n",
              "         0, 0, 0, 0, 0, 0, 0, 0, 0, 0, 0, 1, 0, 0, 0, 0, 0, 0, 0, 0, 0, 0, 0, 0,\n",
              "         0, 0, 0, 0, 0, 0, 0, 0, 0, 0, 0, 0, 0, 0, 0, 0, 0, 0, 0, 0, 0, 0, 0, 0,\n",
              "         0, 0, 0, 0, 0, 0, 0, 0, 0, 0, 0, 0, 0, 0, 0, 0, 0, 0, 0, 0, 0, 0, 0, 0,\n",
              "         0, 0, 0, 0, 0, 0, 0, 0, 0, 0, 0, 0, 0, 0, 0, 0, 0, 0, 0, 0, 0, 0, 0, 0,\n",
              "         0, 0, 0, 0, 0, 0, 0, 0, 0, 0, 0, 0, 0, 0, 0, 0, 0, 0, 0, 0, 0, 0, 0, 0,\n",
              "         0, 0, 0, 1, 0, 0, 1, 0, 0, 0, 0, 0, 0, 0, 0, 0, 0, 0, 0, 0, 0, 0, 0, 0,\n",
              "         0, 0, 0, 0, 0, 0, 0, 0, 0, 0, 0, 0, 0, 0, 0, 0, 0, 0, 0, 0, 0, 0, 0, 0,\n",
              "         0, 0, 0, 0, 0, 0, 0, 0, 0, 0, 0, 0, 0, 0, 0, 0, 0, 0, 0, 0, 0, 0, 0, 0,\n",
              "         0, 0, 0, 0, 0, 0, 0, 0, 0, 0, 0, 0, 0, 0, 0, 0, 0, 0, 0, 0, 0, 0, 0, 0,\n",
              "         0, 0, 0, 0, 0, 0, 0, 0, 0, 0, 1, 0, 0, 0, 0, 0, 0, 0, 0, 0, 0, 0, 0, 0,\n",
              "         0, 0, 0, 0, 0, 0, 0, 0, 0, 0, 0, 0, 0, 0, 0, 0, 0, 0, 0, 0, 0, 0, 0, 0,\n",
              "         0, 0, 0, 0, 0, 0, 0, 0, 0, 0, 0, 0, 0, 0, 0, 0, 0, 0, 0, 0, 0, 1, 0, 1,\n",
              "         0, 0, 0, 0, 0, 0, 0, 0, 0, 0, 0, 0, 0, 0, 0, 0, 0, 0, 0, 0, 0, 0, 0, 1,\n",
              "         0, 0, 0, 0, 0, 0, 0, 0, 0, 0, 0, 0, 0, 0, 0, 0, 0, 0, 0, 0, 0, 0, 0, 0,\n",
              "         0, 0, 0, 0, 0, 0, 0, 0, 0, 0, 0, 0, 0, 0, 0, 0, 0, 0, 0, 0, 0, 0, 0, 0,\n",
              "         0, 0, 0, 0, 0, 0, 0, 0, 0, 0, 0, 0, 0, 0, 0, 0, 0, 0, 0, 0, 0, 0, 0, 0,\n",
              "         0, 0, 0, 0, 0, 0, 0, 0, 0, 0, 0, 0, 0, 1, 0, 0, 0, 0, 0, 0, 0, 0, 0, 0,\n",
              "         0, 0, 0, 0, 0, 0, 0, 0, 1, 0, 0, 0, 0, 0, 0, 0, 0, 0, 0, 0, 0]),\n",
              " 'nutritions': tensor([0.0313, 0.0153, 0.0166, 0.0245], dtype=torch.float64)}"
            ]
          },
          "metadata": {
            "tags": []
          },
          "execution_count": 174
        }
      ]
    },
    {
      "cell_type": "code",
      "metadata": {
        "id": "ORRC4HD6LRSF",
        "colab_type": "code",
        "colab": {}
      },
      "source": [
        "image_dataset = FoodDataset(root_folder)"
      ],
      "execution_count": 0,
      "outputs": []
    }
  ]
}