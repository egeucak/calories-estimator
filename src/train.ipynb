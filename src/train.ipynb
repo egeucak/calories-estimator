{
  "nbformat": 4,
  "nbformat_minor": 0,
  "metadata": {
    "colab": {
      "name": "train.ipynb",
      "version": "0.3.2",
      "provenance": [],
      "collapsed_sections": []
    },
    "language_info": {
      "codemirror_mode": {
        "name": "ipython",
        "version": 3
      },
      "file_extension": ".py",
      "mimetype": "text/x-python",
      "name": "python",
      "nbconvert_exporter": "python",
      "pygments_lexer": "ipython3",
      "version": "3.6.6"
    },
    "kernelspec": {
      "name": "python3",
      "display_name": "Python 3"
    },
    "accelerator": "GPU"
  },
  "cells": [
    {
      "cell_type": "code",
      "metadata": {
        "id": "sWzcGYl9Ezk4",
        "colab_type": "code",
        "colab": {}
      },
      "source": [
        "%matplotlib inline"
      ],
      "execution_count": 0,
      "outputs": []
    },
    {
      "cell_type": "code",
      "metadata": {
        "id": "sm0x7BQ1Ezk_",
        "colab_type": "code",
        "colab": {}
      },
      "source": [
        "# License: BSD\n",
        "# Author: Sasank Chilamkurthy\n",
        "\n",
        "from __future__ import print_function, division\n",
        "\n",
        "import torch\n",
        "import torch.nn as nn\n",
        "import torch.optim as optim\n",
        "from torch.utils.data import Dataset, DataLoader\n",
        "from torch.optim import lr_scheduler\n",
        "import numpy as np\n",
        "import pandas as pd\n",
        "import torchvision\n",
        "from torchvision import datasets, models, transforms\n",
        "import matplotlib.pyplot as plt\n",
        "from google.colab import drive\n",
        "import time\n",
        "import os\n",
        "import copy\n",
        "import random\n",
        "import math\n",
        "import pickle\n",
        "import torch.nn.functional as F\n",
        "from functools import reduce\n",
        "from skimage import io, transform\n",
        "from sklearn.preprocessing import MinMaxScaler\n",
        "from PIL import Image\n",
        "from torch.utils.data.sampler import SubsetRandomSampler\n",
        "\n",
        "plt.ion()   # interactive mode"
      ],
      "execution_count": 0,
      "outputs": []
    },
    {
      "cell_type": "code",
      "metadata": {
        "id": "UV084TWiYUxU",
        "colab_type": "code",
        "outputId": "11fec2c7-3670-4e25-cd3e-c894c09a016a",
        "colab": {
          "base_uri": "https://localhost:8080/",
          "height": 122
        }
      },
      "source": [
        "drive.mount('/content/drive', force_remount=True)"
      ],
      "execution_count": 2,
      "outputs": [
        {
          "output_type": "stream",
          "text": [
            "Go to this URL in a browser: https://accounts.google.com/o/oauth2/auth?client_id=947318989803-6bn6qk8qdgf4n4g3pfee6491hc0brc4i.apps.googleusercontent.com&redirect_uri=urn%3Aietf%3Awg%3Aoauth%3A2.0%3Aoob&scope=email%20https%3A%2F%2Fwww.googleapis.com%2Fauth%2Fdocs.test%20https%3A%2F%2Fwww.googleapis.com%2Fauth%2Fdrive%20https%3A%2F%2Fwww.googleapis.com%2Fauth%2Fdrive.photos.readonly%20https%3A%2F%2Fwww.googleapis.com%2Fauth%2Fpeopleapi.readonly&response_type=code\n",
            "\n",
            "Enter your authorization code:\n",
            "··········\n",
            "Mounted at /content/drive\n"
          ],
          "name": "stdout"
        }
      ]
    },
    {
      "cell_type": "code",
      "metadata": {
        "id": "Pn1qlLypLMyX",
        "colab_type": "code",
        "colab": {}
      },
      "source": [
        "root_folder = 'drive/My Drive/computer-vision/project'\n",
        "\n",
        "# root_folder = 'drive/My Drive/project'"
      ],
      "execution_count": 0,
      "outputs": []
    },
    {
      "cell_type": "code",
      "metadata": {
        "id": "tdN7-uo3K1RT",
        "colab_type": "code",
        "colab": {}
      },
      "source": [
        "flatten = lambda l: [item for sublist in l for item in sublist]\n",
        "def clear_non_ascii(word):\n",
        "    res = ''\n",
        "    for letter in word:\n",
        "        if (ord(letter) < 128):\n",
        "            res += letter\n",
        "    return res\n",
        "\n",
        "class ToTensor(object):\n",
        "    \"\"\"Convert ndarrays in sample to Tensors.\"\"\"\n",
        "\n",
        "    def __call__(self, sample):\n",
        "        image, ingredients, nutritions = sample['image'], sample['ingredients'], sample['nutritions']\n",
        "        \n",
        "        try:\n",
        "            # convert images from RGBA to RGB\n",
        "            image = Image.fromarray(image)\n",
        "            image = image.convert('RGB')\n",
        "            image = np.array(image)\n",
        "        except:\n",
        "            pass\n",
        "        image = transform.resize(image, (224, 224, 3))\n",
        "        \n",
        "        # swap color axis because\n",
        "        # numpy image: H x W x C\n",
        "        # torch image: C X H X W\n",
        "        image = image.transpose((2, 0, 1))\n",
        "        return {'image': torch.from_numpy(image),\n",
        "                'ingredients': torch.from_numpy(ingredients),\n",
        "                'nutritions': torch.from_numpy(nutritions)}\n",
        "\n",
        "class FoodDataset(Dataset):\n",
        "    def __init__(self, root_dir, transform=None):\n",
        "        self.root_dir = root_dir\n",
        "        self.transform = transform\n",
        "        self.images = None\n",
        "        self.metadata = None\n",
        "        self.ingredients = None\n",
        "        self.prepare_metadata()\n",
        "\n",
        "    def __len__(self):\n",
        "        return len(self.images)\n",
        "\n",
        "    def __getitem__(self, idx):\n",
        "        row = self.images.iloc[idx]\n",
        "        im_name, im_class = row['image_name'], row['class']\n",
        "        try:\n",
        "            image = io.imread(os.path.join(self.root_dir, 'downloads', im_class, im_name))\n",
        "        except Exception as err:\n",
        "            print(im_name, im_class)\n",
        "        rows = self.metadata[self.metadata['name'] == im_class.strip()]\n",
        "        row = rows.iloc[random.choice(list(range(len(rows))))].to_dict() # random.choice is for getting a random row if there are more than 1 recipes sharing one name\n",
        "        ingredients = self.ingredient_to_sparse(row['ingredients'])\n",
        "        del row['image']\n",
        "        del row['ingredients']\n",
        "        del row['name']\n",
        "        nutritions = self.nutritions_to_array(row)\n",
        "        sample = {\n",
        "            'image': image,\n",
        "            'nutritions': nutritions,\n",
        "            'ingredients': ingredients\n",
        "        }\n",
        "        if self.transform:\n",
        "            sample = self.transform(sample)\n",
        "        return sample\n",
        "    \n",
        "    def ingredient_to_sparse(self, target_ingredients):\n",
        "        zero_array = np.zeros(len(self.ingredients), dtype=int)\n",
        "        ingredient_locations = map(lambda string: self.ingredients.index(string), target_ingredients)\n",
        "        for loc in list(ingredient_locations):\n",
        "            zero_array[loc] = 1\n",
        "        return zero_array\n",
        "    \n",
        "    def nutritions_to_array(self, row):\n",
        "        calories, carbs, fat, protein = row['calories'], row['carbs'], row['fat'], row['protein']\n",
        "        as_array = np.array([calories, carbs, fat, protein])\n",
        "        return as_array\n",
        "      \n",
        "    def prepare_metadata(self):\n",
        "        food = pd.read_csv(os.path.join(self.root_dir, 'data1.csv'))\n",
        "        food['ingredients'] = food['ingredients'].apply(lambda cell: cell.split('|'))\n",
        "        food['name'] = food['name'].apply(lambda cell: cell.replace('\\\"', '')) # Some cells contain \" which causes problems with the file system\n",
        "        food['name'] = food['name'].apply(lambda cell: cell.replace('/', '_')) # Some cells contain / which causes problems with the file system\n",
        "        food['name'] = food['name'].apply(lambda cell: cell.replace('  ', ' ')) # Some cells has 2 spaces instead 1 one\n",
        "        food['name'] = food['name'].apply(lambda cell: clear_non_ascii(cell))\n",
        "        \n",
        "        scaler = MinMaxScaler()\n",
        "        food[['calories', 'fat', 'carbs', 'protein']] = scaler.fit_transform(food[['calories', 'fat', 'carbs', 'protein']])\n",
        "        self.scaler = scaler\n",
        "        \n",
        "        ingredients = list(set(flatten(list(food['ingredients']))))\n",
        "        self.metadata = food\n",
        "        self.ingredients = sorted(ingredients)\n",
        "\n",
        "        rows = []\n",
        "        \n",
        "        for name in os.listdir(os.path.join(self.root_dir, 'downloads')):\n",
        "            row = food[food['name']==name.strip()]\n",
        "            if not len(row): continue\n",
        "            images = os.listdir(os.path.join(self.root_dir, 'downloads', name))\n",
        "            new_row = list(map(lambda im: [im, name], images))\n",
        "            rows.extend(new_row)\n",
        "        df = pd.DataFrame(rows, columns=['image_name', 'class']).sample(n=5000)\n",
        "        self.images = df"
      ],
      "execution_count": 0,
      "outputs": []
    },
    {
      "cell_type": "code",
      "metadata": {
        "id": "U5Zge_83tnEm",
        "colab_type": "code",
        "colab": {}
      },
      "source": [
        "image_dataset = FoodDataset(root_folder, transform=transforms.Compose([\n",
        "    ToTensor()\n",
        "]))"
      ],
      "execution_count": 0,
      "outputs": []
    },
    {
      "cell_type": "code",
      "metadata": {
        "id": "i1lNEV0JmUwO",
        "colab_type": "code",
        "colab": {}
      },
      "source": [
        "filename = os.path.join(root_folder, 'image_dataset')\n",
        "outfile = open(filename,'wb')\n",
        "\n",
        "pickle.dump(image_dataset, outfile)"
      ],
      "execution_count": 0,
      "outputs": []
    },
    {
      "cell_type": "code",
      "metadata": {
        "id": "uKjutc10uodk",
        "colab_type": "code",
        "colab": {}
      },
      "source": [
        "# Load the image_dataset\n",
        "with open(os.path.join(root_folder, 'image_dataset'), 'rb') as f:\n",
        "    image_dataset = pickle.load(f)"
      ],
      "execution_count": 0,
      "outputs": []
    },
    {
      "cell_type": "markdown",
      "metadata": {
        "id": "1NVK6GjV49TI",
        "colab_type": "text"
      },
      "source": [
        "## FINE TUNING\n",
        "\n",
        "---\n",
        "\n"
      ]
    },
    {
      "cell_type": "code",
      "metadata": {
        "id": "G-_px96lEm8v",
        "colab_type": "code",
        "colab": {}
      },
      "source": [
        "def drawGraphs(losses):\n",
        "    plt.plot(losses['train'], )\n",
        "    plt.plot(losses['val'])\n",
        "    plt.title('Model training loss graph')\n",
        "    plt.ylabel(\"Loss\")\n",
        "    plt.xlabel('epoch')\n",
        "    plt.legend(['train', 'validation'], loc='upper right')\n",
        "    plt.show()"
      ],
      "execution_count": 0,
      "outputs": []
    },
    {
      "cell_type": "code",
      "metadata": {
        "id": "b8d6LYYQ-cgU",
        "colab_type": "code",
        "colab": {}
      },
      "source": [
        "def train_model(model, dataloaders, criterion, optimizer, scheduler, num_epochs=25):\n",
        "    since = time.time()\n",
        "    \n",
        "    root = \"drive/My Drive/computer-vision\"\n",
        "    \n",
        "    loss_history = {'train': list(),\n",
        "                   'val': list()}\n",
        "\n",
        "    best_model_wts = copy.deepcopy(model.state_dict())\n",
        "    best_loss = math.inf\n",
        "\n",
        "    for epoch in range(num_epochs):\n",
        "        print('Epoch {}/{}'.format(epoch+1, num_epochs))\n",
        "        print('-' * 10)\n",
        "\n",
        "        # Each epoch has a training and validation phase\n",
        "        for phase in ['train', 'val']:\n",
        "            if phase == 'train':\n",
        "                scheduler.step()\n",
        "                model.train()  # Set model to training mode\n",
        "            else:\n",
        "                model.eval()   # Set model to evaluate mode\n",
        "\n",
        "            running_loss = 0.0\n",
        "            running_corrects = 0\n",
        "\n",
        "            # Iterate over data.\n",
        "            for i, batch in enumerate(dataloaders[phase]):\n",
        "                print(\"\\rBatch {} / {}\".format(i, dataset_sizes[phase]/8), sep=' ', end='', flush=True)\n",
        "                inputs = batch['image']\n",
        "                labels = batch['ingredients']\n",
        "\n",
        "                inputs = inputs.float()\n",
        "                labels = labels.float()\n",
        "\n",
        "                inputs = inputs.to(device)\n",
        "                labels = labels.to(device)\n",
        "\n",
        "                # zero the parameter gradients\n",
        "                optimizer.zero_grad()\n",
        "\n",
        "                # forward\n",
        "                # track history if only in train\n",
        "                with torch.set_grad_enabled(phase == 'train'):\n",
        "                    outputs = model(inputs)\n",
        "                    loss = criterion(outputs, labels)\n",
        "\n",
        "                    # backward + optimize only if in training phase\n",
        "                    if phase == 'train':\n",
        "                        loss.backward()\n",
        "                        optimizer.step()\n",
        "\n",
        "                # statistics\n",
        "                running_loss += loss.item() * inputs.size(0)\n",
        "                \n",
        "            epoch_loss = running_loss\n",
        "            \n",
        "            loss_history[phase].append(epoch_loss)\n",
        "\n",
        "            print('{} Loss: {:.4f}'.format(\n",
        "                phase, epoch_loss))\n",
        "\n",
        "            # deep copy the model\n",
        "            if phase == 'val' and best_loss > epoch_loss:\n",
        "                best_loss = epoch_loss\n",
        "                best_model_wts = copy.deepcopy(model.state_dict())\n",
        "\n",
        "        \n",
        "        with open(os.path.join(root, 'tempModel.pck'), 'wb') as f:\n",
        "            pickle.dump(model, f)\n",
        "        print()\n",
        "\n",
        "    time_elapsed = time.time() - since\n",
        "    print('Training complete in {:.0f}m {:.0f}s'.format(\n",
        "        time_elapsed // 60, time_elapsed % 60))\n",
        "    print('Best val Acc: {:4f}'.format(best_loss))\n",
        "\n",
        "    # load best model weights\n",
        "    model.load_state_dict(best_model_wts)\n",
        "    \n",
        "    drawGraphs(loss_history)\n",
        "    \n",
        "    return model, loss_history"
      ],
      "execution_count": 0,
      "outputs": []
    },
    {
      "cell_type": "code",
      "metadata": {
        "id": "e0SVTfl56mle",
        "colab_type": "code",
        "colab": {}
      },
      "source": [
        "def splitDataset(dataset, validation_split=0.2, shuffle=True, random_seed=42):\n",
        "    dataset_size = len(dataset)\n",
        "    indices = list(range(dataset_size))\n",
        "    split = int(np.floor(validation_split * dataset_size))\n",
        "    \n",
        "    if shuffle :\n",
        "        np.random.seed(random_seed)\n",
        "        np.random.shuffle(indices)\n",
        "\n",
        "    \n",
        "    train_indices, val_indices = indices[split:], indices[:split]\n",
        "\n",
        "    # Creating PT data samplers and loaders:\n",
        "    train_sampler = SubsetRandomSampler(train_indices)\n",
        "    valid_sampler = SubsetRandomSampler(val_indices)\n",
        "    \n",
        "    return train_sampler, valid_sampler"
      ],
      "execution_count": 0,
      "outputs": []
    },
    {
      "cell_type": "code",
      "metadata": {
        "id": "VMfd3BoG6aPY",
        "colab_type": "code",
        "colab": {}
      },
      "source": [
        "train_sampler, valid_sampler = splitDataset(image_dataset)"
      ],
      "execution_count": 0,
      "outputs": []
    },
    {
      "cell_type": "code",
      "metadata": {
        "id": "-on5jZtb7XHP",
        "colab_type": "code",
        "colab": {}
      },
      "source": [
        "dataloaders = {\n",
        "    'train': torch.utils.data.DataLoader(image_dataset, batch_size=8,\n",
        "                                        sampler=train_sampler),\n",
        "    'val': torch.utils.data.DataLoader(image_dataset, batch_size=8,\n",
        "                                        sampler=valid_sampler) \n",
        "}\n",
        "\n",
        "dataset_sizes = {\n",
        "    'train': len(train_sampler),\n",
        "    'val': len(valid_sampler)\n",
        "}"
      ],
      "execution_count": 0,
      "outputs": []
    },
    {
      "cell_type": "code",
      "metadata": {
        "id": "NiFIht7p8VcJ",
        "colab_type": "code",
        "colab": {}
      },
      "source": [
        "device = torch.device(\"cuda:0\" if torch.cuda.is_available() else \"cpu\")"
      ],
      "execution_count": 0,
      "outputs": []
    },
    {
      "cell_type": "code",
      "metadata": {
        "id": "xtWEzFEX40jE",
        "colab_type": "code",
        "colab": {}
      },
      "source": [
        "model_conv = torchvision.models.resnet18(pretrained=True)\n",
        "for param in model_conv.parameters():\n",
        "    param.requires_grad = False\n",
        "\n",
        "# Parameters of newly constructed modules have requires_grad=True by default\n",
        "num_ftrs = model_conv.fc.in_features\n",
        "model_conv.fc = nn.Linear(num_ftrs, 957)\n",
        "\n",
        "model_conv = model_conv.to(device)\n",
        "\n",
        "\n",
        "criterion = nn.MSELoss()\n",
        "\n",
        "# Observe that only parameters of final layer are being optimized as\n",
        "# opposed to before.\n",
        "optimizer_conv = optim.SGD(model_conv.fc.parameters(), lr=0.001, momentum=0.9)\n",
        "\n",
        "# Decay LR by a factor of 0.1 every 7 epochs\n",
        "exp_lr_scheduler = lr_scheduler.StepLR(optimizer_conv, step_size=7, gamma=0.1)"
      ],
      "execution_count": 0,
      "outputs": []
    },
    {
      "cell_type": "code",
      "metadata": {
        "id": "4OMBuVw8-WV7",
        "colab_type": "code",
        "colab": {
          "base_uri": "https://localhost:8080/",
          "height": 425
        },
        "outputId": "e7fe0935-fc01-43c5-e202-c378edf2126b"
      },
      "source": [
        "# Training ResNet18\n",
        "model_conv, losshist = train_model(model_conv, dataloaders, criterion, optimizer_conv,\n",
        "                         exp_lr_scheduler, num_epochs=2)"
      ],
      "execution_count": 21,
      "outputs": [
        {
          "output_type": "stream",
          "text": [
            "Epoch 1/2\n",
            "----------\n",
            "Batch 100 / 500.0"
          ],
          "name": "stdout"
        },
        {
          "output_type": "stream",
          "text": [
            "/usr/local/lib/python3.6/dist-packages/PIL/Image.py:914: UserWarning: Palette images with Transparency   expressed in bytes should be converted to RGBA images\n",
            "  'to RGBA images')\n"
          ],
          "name": "stderr"
        },
        {
          "output_type": "stream",
          "text": [
            "Batch 499 / 500.0train Loss: 780.8242\n",
            "Batch 16 / 125.0"
          ],
          "name": "stdout"
        },
        {
          "output_type": "error",
          "ename": "KeyboardInterrupt",
          "evalue": "ignored",
          "traceback": [
            "\u001b[0;31m---------------------------------------------------------------------------\u001b[0m",
            "\u001b[0;31mKeyboardInterrupt\u001b[0m                         Traceback (most recent call last)",
            "\u001b[0;32m<ipython-input-21-6e58793d8d69>\u001b[0m in \u001b[0;36m<module>\u001b[0;34m()\u001b[0m\n\u001b[1;32m      1\u001b[0m model_conv, losshist = train_model(model_conv, dataloaders, criterion, optimizer_conv,\n\u001b[0;32m----> 2\u001b[0;31m                          exp_lr_scheduler, num_epochs=2)\n\u001b[0m",
            "\u001b[0;32m<ipython-input-8-4c04683c603b>\u001b[0m in \u001b[0;36mtrain_model\u001b[0;34m(model, dataloaders, criterion, optimizer, scheduler, num_epochs)\u001b[0m\n\u001b[1;32m     26\u001b[0m \u001b[0;34m\u001b[0m\u001b[0m\n\u001b[1;32m     27\u001b[0m             \u001b[0;31m# Iterate over data.\u001b[0m\u001b[0;34m\u001b[0m\u001b[0;34m\u001b[0m\u001b[0;34m\u001b[0m\u001b[0m\n\u001b[0;32m---> 28\u001b[0;31m             \u001b[0;32mfor\u001b[0m \u001b[0mi\u001b[0m\u001b[0;34m,\u001b[0m \u001b[0mbatch\u001b[0m \u001b[0;32min\u001b[0m \u001b[0menumerate\u001b[0m\u001b[0;34m(\u001b[0m\u001b[0mdataloaders\u001b[0m\u001b[0;34m[\u001b[0m\u001b[0mphase\u001b[0m\u001b[0;34m]\u001b[0m\u001b[0;34m)\u001b[0m\u001b[0;34m:\u001b[0m\u001b[0;34m\u001b[0m\u001b[0;34m\u001b[0m\u001b[0m\n\u001b[0m\u001b[1;32m     29\u001b[0m                 \u001b[0mprint\u001b[0m\u001b[0;34m(\u001b[0m\u001b[0;34m\"\\rBatch {} / {}\"\u001b[0m\u001b[0;34m.\u001b[0m\u001b[0mformat\u001b[0m\u001b[0;34m(\u001b[0m\u001b[0mi\u001b[0m\u001b[0;34m,\u001b[0m \u001b[0mdataset_sizes\u001b[0m\u001b[0;34m[\u001b[0m\u001b[0mphase\u001b[0m\u001b[0;34m]\u001b[0m\u001b[0;34m/\u001b[0m\u001b[0;36m8\u001b[0m\u001b[0;34m)\u001b[0m\u001b[0;34m,\u001b[0m \u001b[0msep\u001b[0m\u001b[0;34m=\u001b[0m\u001b[0;34m' '\u001b[0m\u001b[0;34m,\u001b[0m \u001b[0mend\u001b[0m\u001b[0;34m=\u001b[0m\u001b[0;34m''\u001b[0m\u001b[0;34m,\u001b[0m \u001b[0mflush\u001b[0m\u001b[0;34m=\u001b[0m\u001b[0;32mTrue\u001b[0m\u001b[0;34m)\u001b[0m\u001b[0;34m\u001b[0m\u001b[0;34m\u001b[0m\u001b[0m\n\u001b[1;32m     30\u001b[0m                 \u001b[0minputs\u001b[0m \u001b[0;34m=\u001b[0m \u001b[0mbatch\u001b[0m\u001b[0;34m[\u001b[0m\u001b[0;34m'image'\u001b[0m\u001b[0;34m]\u001b[0m\u001b[0;34m\u001b[0m\u001b[0;34m\u001b[0m\u001b[0m\n",
            "\u001b[0;32m/usr/local/lib/python3.6/dist-packages/torch/utils/data/dataloader.py\u001b[0m in \u001b[0;36m__next__\u001b[0;34m(self)\u001b[0m\n\u001b[1;32m    558\u001b[0m         \u001b[0;32mif\u001b[0m \u001b[0mself\u001b[0m\u001b[0;34m.\u001b[0m\u001b[0mnum_workers\u001b[0m \u001b[0;34m==\u001b[0m \u001b[0;36m0\u001b[0m\u001b[0;34m:\u001b[0m  \u001b[0;31m# same-process loading\u001b[0m\u001b[0;34m\u001b[0m\u001b[0;34m\u001b[0m\u001b[0m\n\u001b[1;32m    559\u001b[0m             \u001b[0mindices\u001b[0m \u001b[0;34m=\u001b[0m \u001b[0mnext\u001b[0m\u001b[0;34m(\u001b[0m\u001b[0mself\u001b[0m\u001b[0;34m.\u001b[0m\u001b[0msample_iter\u001b[0m\u001b[0;34m)\u001b[0m  \u001b[0;31m# may raise StopIteration\u001b[0m\u001b[0;34m\u001b[0m\u001b[0;34m\u001b[0m\u001b[0m\n\u001b[0;32m--> 560\u001b[0;31m             \u001b[0mbatch\u001b[0m \u001b[0;34m=\u001b[0m \u001b[0mself\u001b[0m\u001b[0;34m.\u001b[0m\u001b[0mcollate_fn\u001b[0m\u001b[0;34m(\u001b[0m\u001b[0;34m[\u001b[0m\u001b[0mself\u001b[0m\u001b[0;34m.\u001b[0m\u001b[0mdataset\u001b[0m\u001b[0;34m[\u001b[0m\u001b[0mi\u001b[0m\u001b[0;34m]\u001b[0m \u001b[0;32mfor\u001b[0m \u001b[0mi\u001b[0m \u001b[0;32min\u001b[0m \u001b[0mindices\u001b[0m\u001b[0;34m]\u001b[0m\u001b[0;34m)\u001b[0m\u001b[0;34m\u001b[0m\u001b[0;34m\u001b[0m\u001b[0m\n\u001b[0m\u001b[1;32m    561\u001b[0m             \u001b[0;32mif\u001b[0m \u001b[0mself\u001b[0m\u001b[0;34m.\u001b[0m\u001b[0mpin_memory\u001b[0m\u001b[0;34m:\u001b[0m\u001b[0;34m\u001b[0m\u001b[0;34m\u001b[0m\u001b[0m\n\u001b[1;32m    562\u001b[0m                 \u001b[0mbatch\u001b[0m \u001b[0;34m=\u001b[0m \u001b[0m_utils\u001b[0m\u001b[0;34m.\u001b[0m\u001b[0mpin_memory\u001b[0m\u001b[0;34m.\u001b[0m\u001b[0mpin_memory_batch\u001b[0m\u001b[0;34m(\u001b[0m\u001b[0mbatch\u001b[0m\u001b[0;34m)\u001b[0m\u001b[0;34m\u001b[0m\u001b[0;34m\u001b[0m\u001b[0m\n",
            "\u001b[0;32m/usr/local/lib/python3.6/dist-packages/torch/utils/data/dataloader.py\u001b[0m in \u001b[0;36m<listcomp>\u001b[0;34m(.0)\u001b[0m\n\u001b[1;32m    558\u001b[0m         \u001b[0;32mif\u001b[0m \u001b[0mself\u001b[0m\u001b[0;34m.\u001b[0m\u001b[0mnum_workers\u001b[0m \u001b[0;34m==\u001b[0m \u001b[0;36m0\u001b[0m\u001b[0;34m:\u001b[0m  \u001b[0;31m# same-process loading\u001b[0m\u001b[0;34m\u001b[0m\u001b[0;34m\u001b[0m\u001b[0m\n\u001b[1;32m    559\u001b[0m             \u001b[0mindices\u001b[0m \u001b[0;34m=\u001b[0m \u001b[0mnext\u001b[0m\u001b[0;34m(\u001b[0m\u001b[0mself\u001b[0m\u001b[0;34m.\u001b[0m\u001b[0msample_iter\u001b[0m\u001b[0;34m)\u001b[0m  \u001b[0;31m# may raise StopIteration\u001b[0m\u001b[0;34m\u001b[0m\u001b[0;34m\u001b[0m\u001b[0m\n\u001b[0;32m--> 560\u001b[0;31m             \u001b[0mbatch\u001b[0m \u001b[0;34m=\u001b[0m \u001b[0mself\u001b[0m\u001b[0;34m.\u001b[0m\u001b[0mcollate_fn\u001b[0m\u001b[0;34m(\u001b[0m\u001b[0;34m[\u001b[0m\u001b[0mself\u001b[0m\u001b[0;34m.\u001b[0m\u001b[0mdataset\u001b[0m\u001b[0;34m[\u001b[0m\u001b[0mi\u001b[0m\u001b[0;34m]\u001b[0m \u001b[0;32mfor\u001b[0m \u001b[0mi\u001b[0m \u001b[0;32min\u001b[0m \u001b[0mindices\u001b[0m\u001b[0;34m]\u001b[0m\u001b[0;34m)\u001b[0m\u001b[0;34m\u001b[0m\u001b[0;34m\u001b[0m\u001b[0m\n\u001b[0m\u001b[1;32m    561\u001b[0m             \u001b[0;32mif\u001b[0m \u001b[0mself\u001b[0m\u001b[0;34m.\u001b[0m\u001b[0mpin_memory\u001b[0m\u001b[0;34m:\u001b[0m\u001b[0;34m\u001b[0m\u001b[0;34m\u001b[0m\u001b[0m\n\u001b[1;32m    562\u001b[0m                 \u001b[0mbatch\u001b[0m \u001b[0;34m=\u001b[0m \u001b[0m_utils\u001b[0m\u001b[0;34m.\u001b[0m\u001b[0mpin_memory\u001b[0m\u001b[0;34m.\u001b[0m\u001b[0mpin_memory_batch\u001b[0m\u001b[0;34m(\u001b[0m\u001b[0mbatch\u001b[0m\u001b[0;34m)\u001b[0m\u001b[0;34m\u001b[0m\u001b[0;34m\u001b[0m\u001b[0m\n",
            "\u001b[0;32m<ipython-input-15-b87455be1ba3>\u001b[0m in \u001b[0;36m__getitem__\u001b[0;34m(self, idx)\u001b[0m\n\u001b[1;32m     46\u001b[0m         \u001b[0mim_name\u001b[0m\u001b[0;34m,\u001b[0m \u001b[0mim_class\u001b[0m \u001b[0;34m=\u001b[0m \u001b[0mrow\u001b[0m\u001b[0;34m[\u001b[0m\u001b[0;34m'image_name'\u001b[0m\u001b[0;34m]\u001b[0m\u001b[0;34m,\u001b[0m \u001b[0mrow\u001b[0m\u001b[0;34m[\u001b[0m\u001b[0;34m'class'\u001b[0m\u001b[0;34m]\u001b[0m\u001b[0;34m\u001b[0m\u001b[0;34m\u001b[0m\u001b[0m\n\u001b[1;32m     47\u001b[0m         \u001b[0;32mtry\u001b[0m\u001b[0;34m:\u001b[0m\u001b[0;34m\u001b[0m\u001b[0;34m\u001b[0m\u001b[0m\n\u001b[0;32m---> 48\u001b[0;31m             \u001b[0mimage\u001b[0m \u001b[0;34m=\u001b[0m \u001b[0mio\u001b[0m\u001b[0;34m.\u001b[0m\u001b[0mimread\u001b[0m\u001b[0;34m(\u001b[0m\u001b[0mos\u001b[0m\u001b[0;34m.\u001b[0m\u001b[0mpath\u001b[0m\u001b[0;34m.\u001b[0m\u001b[0mjoin\u001b[0m\u001b[0;34m(\u001b[0m\u001b[0mself\u001b[0m\u001b[0;34m.\u001b[0m\u001b[0mroot_dir\u001b[0m\u001b[0;34m,\u001b[0m \u001b[0;34m'downloads'\u001b[0m\u001b[0;34m,\u001b[0m \u001b[0mim_class\u001b[0m\u001b[0;34m,\u001b[0m \u001b[0mim_name\u001b[0m\u001b[0;34m)\u001b[0m\u001b[0;34m)\u001b[0m\u001b[0;34m\u001b[0m\u001b[0;34m\u001b[0m\u001b[0m\n\u001b[0m\u001b[1;32m     49\u001b[0m         \u001b[0;32mexcept\u001b[0m \u001b[0mException\u001b[0m \u001b[0;32mas\u001b[0m \u001b[0merr\u001b[0m\u001b[0;34m:\u001b[0m\u001b[0;34m\u001b[0m\u001b[0;34m\u001b[0m\u001b[0m\n\u001b[1;32m     50\u001b[0m             \u001b[0mprint\u001b[0m\u001b[0;34m(\u001b[0m\u001b[0mim_name\u001b[0m\u001b[0;34m,\u001b[0m \u001b[0mim_class\u001b[0m\u001b[0;34m)\u001b[0m\u001b[0;34m\u001b[0m\u001b[0;34m\u001b[0m\u001b[0m\n",
            "\u001b[0;32m/usr/local/lib/python3.6/dist-packages/skimage/io/_io.py\u001b[0m in \u001b[0;36mimread\u001b[0;34m(fname, as_gray, plugin, flatten, **plugin_args)\u001b[0m\n\u001b[1;32m     59\u001b[0m \u001b[0;34m\u001b[0m\u001b[0m\n\u001b[1;32m     60\u001b[0m     \u001b[0;32mwith\u001b[0m \u001b[0mfile_or_url_context\u001b[0m\u001b[0;34m(\u001b[0m\u001b[0mfname\u001b[0m\u001b[0;34m)\u001b[0m \u001b[0;32mas\u001b[0m \u001b[0mfname\u001b[0m\u001b[0;34m:\u001b[0m\u001b[0;34m\u001b[0m\u001b[0;34m\u001b[0m\u001b[0m\n\u001b[0;32m---> 61\u001b[0;31m         \u001b[0mimg\u001b[0m \u001b[0;34m=\u001b[0m \u001b[0mcall_plugin\u001b[0m\u001b[0;34m(\u001b[0m\u001b[0;34m'imread'\u001b[0m\u001b[0;34m,\u001b[0m \u001b[0mfname\u001b[0m\u001b[0;34m,\u001b[0m \u001b[0mplugin\u001b[0m\u001b[0;34m=\u001b[0m\u001b[0mplugin\u001b[0m\u001b[0;34m,\u001b[0m \u001b[0;34m**\u001b[0m\u001b[0mplugin_args\u001b[0m\u001b[0;34m)\u001b[0m\u001b[0;34m\u001b[0m\u001b[0;34m\u001b[0m\u001b[0m\n\u001b[0m\u001b[1;32m     62\u001b[0m \u001b[0;34m\u001b[0m\u001b[0m\n\u001b[1;32m     63\u001b[0m     \u001b[0;32mif\u001b[0m \u001b[0;32mnot\u001b[0m \u001b[0mhasattr\u001b[0m\u001b[0;34m(\u001b[0m\u001b[0mimg\u001b[0m\u001b[0;34m,\u001b[0m \u001b[0;34m'ndim'\u001b[0m\u001b[0;34m)\u001b[0m\u001b[0;34m:\u001b[0m\u001b[0;34m\u001b[0m\u001b[0;34m\u001b[0m\u001b[0m\n",
            "\u001b[0;32m/usr/local/lib/python3.6/dist-packages/skimage/io/manage_plugins.py\u001b[0m in \u001b[0;36mcall_plugin\u001b[0;34m(kind, *args, **kwargs)\u001b[0m\n\u001b[1;32m    208\u001b[0m                                (plugin, kind))\n\u001b[1;32m    209\u001b[0m \u001b[0;34m\u001b[0m\u001b[0m\n\u001b[0;32m--> 210\u001b[0;31m     \u001b[0;32mreturn\u001b[0m \u001b[0mfunc\u001b[0m\u001b[0;34m(\u001b[0m\u001b[0;34m*\u001b[0m\u001b[0margs\u001b[0m\u001b[0;34m,\u001b[0m \u001b[0;34m**\u001b[0m\u001b[0mkwargs\u001b[0m\u001b[0;34m)\u001b[0m\u001b[0;34m\u001b[0m\u001b[0;34m\u001b[0m\u001b[0m\n\u001b[0m\u001b[1;32m    211\u001b[0m \u001b[0;34m\u001b[0m\u001b[0m\n\u001b[1;32m    212\u001b[0m \u001b[0;34m\u001b[0m\u001b[0m\n",
            "\u001b[0;32m/usr/local/lib/python3.6/dist-packages/imageio/core/functions.py\u001b[0m in \u001b[0;36mimread\u001b[0;34m(uri, format, **kwargs)\u001b[0m\n\u001b[1;32m    219\u001b[0m \u001b[0;34m\u001b[0m\u001b[0m\n\u001b[1;32m    220\u001b[0m     \u001b[0;31m# Get reader and read first\u001b[0m\u001b[0;34m\u001b[0m\u001b[0;34m\u001b[0m\u001b[0;34m\u001b[0m\u001b[0m\n\u001b[0;32m--> 221\u001b[0;31m     \u001b[0mreader\u001b[0m \u001b[0;34m=\u001b[0m \u001b[0mread\u001b[0m\u001b[0;34m(\u001b[0m\u001b[0muri\u001b[0m\u001b[0;34m,\u001b[0m \u001b[0mformat\u001b[0m\u001b[0;34m,\u001b[0m \u001b[0;34m\"i\"\u001b[0m\u001b[0;34m,\u001b[0m \u001b[0;34m**\u001b[0m\u001b[0mkwargs\u001b[0m\u001b[0;34m)\u001b[0m\u001b[0;34m\u001b[0m\u001b[0;34m\u001b[0m\u001b[0m\n\u001b[0m\u001b[1;32m    222\u001b[0m     \u001b[0;32mwith\u001b[0m \u001b[0mreader\u001b[0m\u001b[0;34m:\u001b[0m\u001b[0;34m\u001b[0m\u001b[0;34m\u001b[0m\u001b[0m\n\u001b[1;32m    223\u001b[0m         \u001b[0;32mreturn\u001b[0m \u001b[0mreader\u001b[0m\u001b[0;34m.\u001b[0m\u001b[0mget_data\u001b[0m\u001b[0;34m(\u001b[0m\u001b[0;36m0\u001b[0m\u001b[0;34m)\u001b[0m\u001b[0;34m\u001b[0m\u001b[0;34m\u001b[0m\u001b[0m\n",
            "\u001b[0;32m/usr/local/lib/python3.6/dist-packages/imageio/core/functions.py\u001b[0m in \u001b[0;36mget_reader\u001b[0;34m(uri, format, mode, **kwargs)\u001b[0m\n\u001b[1;32m    134\u001b[0m         \u001b[0mformat\u001b[0m \u001b[0;34m=\u001b[0m \u001b[0mformats\u001b[0m\u001b[0;34m[\u001b[0m\u001b[0mformat\u001b[0m\u001b[0;34m]\u001b[0m\u001b[0;34m\u001b[0m\u001b[0;34m\u001b[0m\u001b[0m\n\u001b[1;32m    135\u001b[0m     \u001b[0;32melse\u001b[0m\u001b[0;34m:\u001b[0m\u001b[0;34m\u001b[0m\u001b[0;34m\u001b[0m\u001b[0m\n\u001b[0;32m--> 136\u001b[0;31m         \u001b[0mformat\u001b[0m \u001b[0;34m=\u001b[0m \u001b[0mformats\u001b[0m\u001b[0;34m.\u001b[0m\u001b[0msearch_read_format\u001b[0m\u001b[0;34m(\u001b[0m\u001b[0mrequest\u001b[0m\u001b[0;34m)\u001b[0m\u001b[0;34m\u001b[0m\u001b[0;34m\u001b[0m\u001b[0m\n\u001b[0m\u001b[1;32m    137\u001b[0m     \u001b[0;32mif\u001b[0m \u001b[0mformat\u001b[0m \u001b[0;32mis\u001b[0m \u001b[0;32mNone\u001b[0m\u001b[0;34m:\u001b[0m\u001b[0;34m\u001b[0m\u001b[0;34m\u001b[0m\u001b[0m\n\u001b[1;32m    138\u001b[0m         raise ValueError(\n",
            "\u001b[0;32m/usr/local/lib/python3.6/dist-packages/imageio/core/format.py\u001b[0m in \u001b[0;36msearch_read_format\u001b[0;34m(self, request)\u001b[0m\n\u001b[1;32m    685\u001b[0m         \u001b[0;31m# Select the first that can\u001b[0m\u001b[0;34m\u001b[0m\u001b[0;34m\u001b[0m\u001b[0;34m\u001b[0m\u001b[0m\n\u001b[1;32m    686\u001b[0m         \u001b[0;32mfor\u001b[0m \u001b[0mformat\u001b[0m \u001b[0;32min\u001b[0m \u001b[0mselected_formats\u001b[0m\u001b[0;34m:\u001b[0m\u001b[0;34m\u001b[0m\u001b[0;34m\u001b[0m\u001b[0m\n\u001b[0;32m--> 687\u001b[0;31m             \u001b[0;32mif\u001b[0m \u001b[0mformat\u001b[0m\u001b[0;34m.\u001b[0m\u001b[0mcan_read\u001b[0m\u001b[0;34m(\u001b[0m\u001b[0mrequest\u001b[0m\u001b[0;34m)\u001b[0m\u001b[0;34m:\u001b[0m\u001b[0;34m\u001b[0m\u001b[0;34m\u001b[0m\u001b[0m\n\u001b[0m\u001b[1;32m    688\u001b[0m                 \u001b[0;32mreturn\u001b[0m \u001b[0mformat\u001b[0m\u001b[0;34m\u001b[0m\u001b[0;34m\u001b[0m\u001b[0m\n\u001b[1;32m    689\u001b[0m \u001b[0;34m\u001b[0m\u001b[0m\n",
            "\u001b[0;32m/usr/local/lib/python3.6/dist-packages/imageio/core/format.py\u001b[0m in \u001b[0;36mcan_read\u001b[0;34m(self, request)\u001b[0m\n\u001b[1;32m    193\u001b[0m         \u001b[0mGet\u001b[0m \u001b[0mwhether\u001b[0m \u001b[0mthis\u001b[0m \u001b[0mformat\u001b[0m \u001b[0mcan\u001b[0m \u001b[0mread\u001b[0m \u001b[0mdata\u001b[0m \u001b[0;32mfrom\u001b[0m \u001b[0mthe\u001b[0m \u001b[0mspecified\u001b[0m \u001b[0muri\u001b[0m\u001b[0;34m.\u001b[0m\u001b[0;34m\u001b[0m\u001b[0;34m\u001b[0m\u001b[0m\n\u001b[1;32m    194\u001b[0m         \"\"\"\n\u001b[0;32m--> 195\u001b[0;31m         \u001b[0;32mreturn\u001b[0m \u001b[0mself\u001b[0m\u001b[0;34m.\u001b[0m\u001b[0m_can_read\u001b[0m\u001b[0;34m(\u001b[0m\u001b[0mrequest\u001b[0m\u001b[0;34m)\u001b[0m\u001b[0;34m\u001b[0m\u001b[0;34m\u001b[0m\u001b[0m\n\u001b[0m\u001b[1;32m    196\u001b[0m \u001b[0;34m\u001b[0m\u001b[0m\n\u001b[1;32m    197\u001b[0m     \u001b[0;32mdef\u001b[0m \u001b[0mcan_write\u001b[0m\u001b[0;34m(\u001b[0m\u001b[0mself\u001b[0m\u001b[0;34m,\u001b[0m \u001b[0mrequest\u001b[0m\u001b[0;34m)\u001b[0m\u001b[0;34m:\u001b[0m\u001b[0;34m\u001b[0m\u001b[0;34m\u001b[0m\u001b[0m\n",
            "\u001b[0;32m/usr/local/lib/python3.6/dist-packages/imageio/plugins/pillow.py\u001b[0m in \u001b[0;36m_can_read\u001b[0;34m(self, request)\u001b[0m\n\u001b[1;32m    102\u001b[0m                 \u001b[0mfactory\u001b[0m\u001b[0;34m,\u001b[0m \u001b[0maccept\u001b[0m \u001b[0;34m=\u001b[0m \u001b[0mImage\u001b[0m\u001b[0;34m.\u001b[0m\u001b[0mOPEN\u001b[0m\u001b[0;34m[\u001b[0m\u001b[0mself\u001b[0m\u001b[0;34m.\u001b[0m\u001b[0mplugin_id\u001b[0m\u001b[0;34m]\u001b[0m\u001b[0;34m\u001b[0m\u001b[0;34m\u001b[0m\u001b[0m\n\u001b[1;32m    103\u001b[0m                 \u001b[0;32mif\u001b[0m \u001b[0maccept\u001b[0m\u001b[0;34m:\u001b[0m\u001b[0;34m\u001b[0m\u001b[0;34m\u001b[0m\u001b[0m\n\u001b[0;32m--> 104\u001b[0;31m                     \u001b[0;32mif\u001b[0m \u001b[0mrequest\u001b[0m\u001b[0;34m.\u001b[0m\u001b[0mfirstbytes\u001b[0m \u001b[0;32mand\u001b[0m \u001b[0maccept\u001b[0m\u001b[0;34m(\u001b[0m\u001b[0mrequest\u001b[0m\u001b[0;34m.\u001b[0m\u001b[0mfirstbytes\u001b[0m\u001b[0;34m)\u001b[0m\u001b[0;34m:\u001b[0m\u001b[0;34m\u001b[0m\u001b[0;34m\u001b[0m\u001b[0m\n\u001b[0m\u001b[1;32m    105\u001b[0m                         \u001b[0;32mreturn\u001b[0m \u001b[0;32mTrue\u001b[0m\u001b[0;34m\u001b[0m\u001b[0;34m\u001b[0m\u001b[0m\n\u001b[1;32m    106\u001b[0m \u001b[0;34m\u001b[0m\u001b[0m\n",
            "\u001b[0;32m/usr/local/lib/python3.6/dist-packages/imageio/core/request.py\u001b[0m in \u001b[0;36mfirstbytes\u001b[0;34m(self)\u001b[0m\n\u001b[1;32m    445\u001b[0m         \"\"\"\n\u001b[1;32m    446\u001b[0m         \u001b[0;32mif\u001b[0m \u001b[0mself\u001b[0m\u001b[0;34m.\u001b[0m\u001b[0m_firstbytes\u001b[0m \u001b[0;32mis\u001b[0m \u001b[0;32mNone\u001b[0m\u001b[0;34m:\u001b[0m\u001b[0;34m\u001b[0m\u001b[0;34m\u001b[0m\u001b[0m\n\u001b[0;32m--> 447\u001b[0;31m             \u001b[0mself\u001b[0m\u001b[0;34m.\u001b[0m\u001b[0m_read_first_bytes\u001b[0m\u001b[0;34m(\u001b[0m\u001b[0;34m)\u001b[0m\u001b[0;34m\u001b[0m\u001b[0;34m\u001b[0m\u001b[0m\n\u001b[0m\u001b[1;32m    448\u001b[0m         \u001b[0;32mreturn\u001b[0m \u001b[0mself\u001b[0m\u001b[0;34m.\u001b[0m\u001b[0m_firstbytes\u001b[0m\u001b[0;34m\u001b[0m\u001b[0;34m\u001b[0m\u001b[0m\n\u001b[1;32m    449\u001b[0m \u001b[0;34m\u001b[0m\u001b[0m\n",
            "\u001b[0;32m/usr/local/lib/python3.6/dist-packages/imageio/core/request.py\u001b[0m in \u001b[0;36m_read_first_bytes\u001b[0;34m(self, N)\u001b[0m\n\u001b[1;32m    465\u001b[0m                 \u001b[0mi\u001b[0m \u001b[0;34m=\u001b[0m \u001b[0;32mNone\u001b[0m\u001b[0;34m\u001b[0m\u001b[0;34m\u001b[0m\u001b[0m\n\u001b[1;32m    466\u001b[0m             \u001b[0;31m# Read\u001b[0m\u001b[0;34m\u001b[0m\u001b[0;34m\u001b[0m\u001b[0;34m\u001b[0m\u001b[0m\n\u001b[0;32m--> 467\u001b[0;31m             \u001b[0mself\u001b[0m\u001b[0;34m.\u001b[0m\u001b[0m_firstbytes\u001b[0m \u001b[0;34m=\u001b[0m \u001b[0mread_n_bytes\u001b[0m\u001b[0;34m(\u001b[0m\u001b[0mf\u001b[0m\u001b[0;34m,\u001b[0m \u001b[0mN\u001b[0m\u001b[0;34m)\u001b[0m\u001b[0;34m\u001b[0m\u001b[0;34m\u001b[0m\u001b[0m\n\u001b[0m\u001b[1;32m    468\u001b[0m             \u001b[0;31m# Set back\u001b[0m\u001b[0;34m\u001b[0m\u001b[0;34m\u001b[0m\u001b[0;34m\u001b[0m\u001b[0m\n\u001b[1;32m    469\u001b[0m             \u001b[0;32mtry\u001b[0m\u001b[0;34m:\u001b[0m\u001b[0;34m\u001b[0m\u001b[0;34m\u001b[0m\u001b[0m\n",
            "\u001b[0;32m/usr/local/lib/python3.6/dist-packages/imageio/core/request.py\u001b[0m in \u001b[0;36mread_n_bytes\u001b[0;34m(f, N)\u001b[0m\n\u001b[1;32m    487\u001b[0m     \u001b[0mbb\u001b[0m \u001b[0;34m=\u001b[0m \u001b[0mbinary_type\u001b[0m\u001b[0;34m(\u001b[0m\u001b[0;34m)\u001b[0m\u001b[0;34m\u001b[0m\u001b[0;34m\u001b[0m\u001b[0m\n\u001b[1;32m    488\u001b[0m     \u001b[0;32mwhile\u001b[0m \u001b[0mlen\u001b[0m\u001b[0;34m(\u001b[0m\u001b[0mbb\u001b[0m\u001b[0;34m)\u001b[0m \u001b[0;34m<\u001b[0m \u001b[0mN\u001b[0m\u001b[0;34m:\u001b[0m\u001b[0;34m\u001b[0m\u001b[0;34m\u001b[0m\u001b[0m\n\u001b[0;32m--> 489\u001b[0;31m         \u001b[0mextra_bytes\u001b[0m \u001b[0;34m=\u001b[0m \u001b[0mf\u001b[0m\u001b[0;34m.\u001b[0m\u001b[0mread\u001b[0m\u001b[0;34m(\u001b[0m\u001b[0mN\u001b[0m \u001b[0;34m-\u001b[0m \u001b[0mlen\u001b[0m\u001b[0;34m(\u001b[0m\u001b[0mbb\u001b[0m\u001b[0;34m)\u001b[0m\u001b[0;34m)\u001b[0m\u001b[0;34m\u001b[0m\u001b[0;34m\u001b[0m\u001b[0m\n\u001b[0m\u001b[1;32m    490\u001b[0m         \u001b[0;32mif\u001b[0m \u001b[0;32mnot\u001b[0m \u001b[0mextra_bytes\u001b[0m\u001b[0;34m:\u001b[0m\u001b[0;34m\u001b[0m\u001b[0;34m\u001b[0m\u001b[0m\n\u001b[1;32m    491\u001b[0m             \u001b[0;32mbreak\u001b[0m\u001b[0;34m\u001b[0m\u001b[0;34m\u001b[0m\u001b[0m\n",
            "\u001b[0;31mKeyboardInterrupt\u001b[0m: "
          ]
        }
      ]
    },
    {
      "cell_type": "code",
      "metadata": {
        "id": "7b5sSImYx0_L",
        "colab_type": "code",
        "colab": {}
      },
      "source": [
        "torch.save(model_conv, os.path.join(root_folder, 'resnet18.pck'))"
      ],
      "execution_count": 0,
      "outputs": []
    },
    {
      "cell_type": "code",
      "metadata": {
        "id": "PCbVqsCwWNmX",
        "colab_type": "code",
        "colab": {}
      },
      "source": [
        "model_conv = torch.load(os.path.join(root_folder, 'resnet18.pck'))"
      ],
      "execution_count": 0,
      "outputs": []
    },
    {
      "cell_type": "code",
      "metadata": {
        "id": "w2BqI_q7GbF-",
        "colab_type": "code",
        "colab": {}
      },
      "source": [
        "resnet18 = torchvision.models.resnet18(pretrained=True)\n",
        "\n",
        "# Parameters of newly constructed modules have requires_grad=True by default\n",
        "num_ftrs = resnet18.fc.in_features\n",
        "resnet18.fc = nn.Linear(num_ftrs, 957)\n",
        "\n",
        "resnet18 = resnet18.to(device)"
      ],
      "execution_count": 0,
      "outputs": []
    },
    {
      "cell_type": "code",
      "metadata": {
        "id": "DU7XuuU7Gd67",
        "colab_type": "code",
        "colab": {}
      },
      "source": [
        "# We can iterate inside resnet layer.\n",
        "child_counter = 0\n",
        "for child in resnet18.children():\n",
        "    print(\" child\", child_counter, \"is:\")\n",
        "    print(child)\n",
        "    child_counter += 1"
      ],
      "execution_count": 0,
      "outputs": []
    },
    {
      "cell_type": "code",
      "metadata": {
        "id": "Z1NUN9x2GgWm",
        "colab_type": "code",
        "colab": {}
      },
      "source": [
        "child_counter = 0\n",
        "for child in resnet18.children():\n",
        "    if child_counter < 6:\n",
        "        print(\"child \",child_counter,\" was frozen\")\n",
        "        for param in child.parameters():\n",
        "            param.requires_grad = False\n",
        "    elif child_counter == 6:\n",
        "        children_of_child_counter = 0\n",
        "        for children_of_child in child.children():\n",
        "            if children_of_child_counter < 1:\n",
        "                for param in children_of_child.parameters():\n",
        "                    param.requires_grad = False\n",
        "                    print('child ', children_of_child_counter, 'of child', child_counter,' was frozen')\n",
        "            else:\n",
        "                print('child ', children_of_child_counter, 'of child',child_counter,' was not frozen')\n",
        "            children_of_child_counter += 1\n",
        "    else:\n",
        "        print(\"child \",child_counter,\" was not frozen\")\n",
        "    child_counter += 1"
      ],
      "execution_count": 0,
      "outputs": []
    },
    {
      "cell_type": "code",
      "metadata": {
        "id": "FOSaN74FGjTd",
        "colab_type": "code",
        "colab": {}
      },
      "source": [
        "criterion = nn.MSELoss()\n",
        "\n",
        "# Observe that only parameters of final layer are being optimized as\n",
        "# opposed to before.\n",
        "optimizer_conv = optim.SGD(filter(lambda p: p.requires_grad, resnet18.parameters()), lr=0.001, momentum=0.9)\n",
        "\n",
        "# Decay LR by a factor of 0.1 every 7 epochs\n",
        "exp_lr_scheduler = lr_scheduler.StepLR(optimizer_conv, step_size=7, gamma=0.1)"
      ],
      "execution_count": 0,
      "outputs": []
    },
    {
      "cell_type": "code",
      "metadata": {
        "id": "bZy3KhnwGlnn",
        "colab_type": "code",
        "colab": {}
      },
      "source": [
        "# Training ResNet18\n",
        "resnet18, losshist = train_model(resnet18, dataloaders, criterion, optimizer_conv,\n",
        "                         exp_lr_scheduler, num_epochs=20)"
      ],
      "execution_count": 0,
      "outputs": []
    },
    {
      "cell_type": "code",
      "metadata": {
        "id": "JdqMzB6QGm9W",
        "colab_type": "code",
        "colab": {}
      },
      "source": [
        "torch.save(model_conv, os.path.join(root_folder, 'resnet18_Adv.pck'))"
      ],
      "execution_count": 0,
      "outputs": []
    },
    {
      "cell_type": "markdown",
      "metadata": {
        "id": "M3Z8MZNu89Re",
        "colab_type": "text"
      },
      "source": [
        "# Ingredients => Nutritions Training"
      ]
    },
    {
      "cell_type": "code",
      "metadata": {
        "id": "5-4V8oeV-DC5",
        "colab_type": "code",
        "colab": {}
      },
      "source": [
        "def train_model_fc(model, dataloaders, criterion, optimizer, scheduler, num_epochs=25):\n",
        "    since = time.time()\n",
        "    \n",
        "    loss_history = {'train': list(),\n",
        "                   'val': list()}\n",
        "\n",
        "    best_model_wts = copy.deepcopy(model.state_dict())\n",
        "    best_loss = math.inf\n",
        "\n",
        "    for epoch in range(num_epochs):\n",
        "        print('Epoch {}/{}'.format(epoch, num_epochs - 1))\n",
        "        print('-' * 10)\n",
        "\n",
        "        # Each epoch has a training and validation phase\n",
        "        for phase in ['train', 'val']:\n",
        "            print('{} phase'.format(phase))\n",
        "            if phase == 'train':\n",
        "                scheduler.step()\n",
        "                model.train()  # Set model to training mode\n",
        "            else:\n",
        "                model.eval()   # Set model to evaluate mode\n",
        "\n",
        "            running_loss = 0.0\n",
        "            running_corrects = 0\n",
        "\n",
        "            i = 0\n",
        "            # Iterate over data.\n",
        "            for batch in dataloaders[phase]:\n",
        "                i += 1\n",
        "                print(\"\\rBatch {} / {}\".format(i, dataset_sizes[phase]/8), sep=' ', end='', flush=True)\n",
        "                inputs = batch['ingredients']\n",
        "                labels = batch['nutritions']\n",
        "                \n",
        "                inputs = inputs.float()\n",
        "                labels = labels.float()\n",
        "                \n",
        "                inputs = inputs.to(device)\n",
        "                labels = labels.to(device)\n",
        "\n",
        "                # zero the parameter gradients\n",
        "                optimizer.zero_grad()\n",
        "\n",
        "                # forward\n",
        "                # track history if only in train\n",
        "                with torch.set_grad_enabled(phase == 'train'):\n",
        "                    outputs = model(inputs)\n",
        "                    #preds = outputs()\n",
        "                    #_, preds = torch.max(outputs, 1)\n",
        "                    loss = criterion(outputs, labels)\n",
        "\n",
        "                    # backward + optimize only if in training phase\n",
        "                    if phase == 'train':\n",
        "                        loss.backward()\n",
        "                        optimizer.step()\n",
        "\n",
        "                # statistics\n",
        "                running_loss += loss.item() * inputs.size(0)\n",
        "                #running_corrects += torch.sum(preds == labels.data)\n",
        "\n",
        "            epoch_loss = running_loss \n",
        "            #epoch_acc = running_corrects.double() / dataset_sizes[phase]\n",
        "            \n",
        "            loss_history[phase].append(epoch_loss)\n",
        "\n",
        "            print('{} Loss: {:.4f}'.format(\n",
        "                phase, epoch_loss))\n",
        "\n",
        "            # deep copy the model\n",
        "            if phase == 'val' and best_loss > epoch_loss:\n",
        "                best_loss = epoch_loss\n",
        "                best_model_wts = copy.deepcopy(model.state_dict())\n",
        "\n",
        "        print()\n",
        "\n",
        "    time_elapsed = time.time() - since\n",
        "    print('Training complete in {:.0f}m {:.0f}s'.format(\n",
        "        time_elapsed // 60, time_elapsed % 60))\n",
        "    print('Best val Acc: {:4f}'.format(best_loss))\n",
        "\n",
        "    # load best model weights\n",
        "    model.load_state_dict(best_model_wts)\n",
        "    \n",
        "    drawGraphs(loss_history)\n",
        "    \n",
        "    with open(os.path.join(root_folder, 'model_fc_9NN_noDivision.pck'), 'wb') as f:\n",
        "            pickle.dump(best_model_wts, f)\n",
        "    return model, loss_history"
      ],
      "execution_count": 0,
      "outputs": []
    },
    {
      "cell_type": "code",
      "metadata": {
        "id": "NxezHe1vvU80",
        "colab_type": "code",
        "colab": {}
      },
      "source": [
        "n_in, m_in,  n_out = 957, 1024, 4\n",
        "q_in, p_in, r_in = 512, 2048, 4096\n",
        "class NN(nn.Module):\n",
        "    def __init__(self):        \n",
        "        super(NN, self).__init__()\n",
        "        self.fc1 = nn.Linear(n_in, p_in)\n",
        "        self.fc2 = nn.Dropout(0.5)\n",
        "        self.fc3 = nn.Linear(p_in, p_in)\n",
        "        self.fc4 = nn.Dropout(0.5)\n",
        "        self.fc5 = nn.Linear(p_in, p_in)\n",
        "        self.fc6 = nn.Dropout(0.5)\n",
        "        self.fc7 = nn.Linear(p_in, m_in)\n",
        "        self.fc8 = nn.Dropout(0.5)\n",
        "        self.fc9 = nn.Linear(m_in, m_in)\n",
        "        self.fc10 = nn.Dropout(0.5)\n",
        "        self.fc11= nn.Linear(m_in, n_out)\n",
        "\n",
        "   \n",
        "    def forward(self, x):\n",
        "        x = self.fc2(F.relu(self.fc1(x)))\n",
        "        x = self.fc4(F.relu(self.fc3(x)))\n",
        "        x = self.fc6(F.relu(self.fc5(x)))\n",
        "        x = self.fc8(F.relu(self.fc7(x)))\n",
        "        x = self.fc10(F.relu(self.fc9(x)))\n",
        "        x = self.fc11(x)\n",
        "        return x"
      ],
      "execution_count": 0,
      "outputs": []
    },
    {
      "cell_type": "code",
      "metadata": {
        "id": "uWuh4c_D86qf",
        "colab_type": "code",
        "colab": {}
      },
      "source": [
        "# model_fc = NN()\n",
        "model_fc = model = torch.nn.Sequential(\n",
        "    torch.nn.Linear(n_in, p_in),\n",
        "    torch.nn.ReLU(),\n",
        "    torch.nn.Linear(p_in, p_in),\n",
        "    torch.nn.ReLU(),\n",
        "    nn.Dropout(0, 5),\n",
        "    torch.nn.Linear(p_in, p_in),\n",
        "    torch.nn.ReLU(),\n",
        "    torch.nn.Linear(p_in, p_in),\n",
        "    torch.nn.ReLU(),\n",
        "    nn.Dropout(0, 5),\n",
        "    torch.nn.Linear(p_in, n_out),\n",
        ")\n",
        "\n",
        "model_fc =model_fc.to(device)\n",
        "  \n",
        "# Construct the loss function\n",
        "criterion = torch.nn.MSELoss()\n",
        "optimizer_fc = torch.optim.Adam(model_fc.parameters(), lr=0.0001)\n",
        "\n",
        "# Decay LR by a factor of 0.1 every 7 epochs\n",
        "exp_lr_scheduler = lr_scheduler.StepLR(optimizer_fc, step_size=7, gamma=0.1)\n"
      ],
      "execution_count": 0,
      "outputs": []
    },
    {
      "cell_type": "code",
      "metadata": {
        "id": "JCnv46PV-8FA",
        "colab_type": "code",
        "outputId": "403de464-892d-42be-a511-991be32a6247",
        "colab": {
          "base_uri": "https://localhost:8080/",
          "height": 1553
        }
      },
      "source": [
        "# Training ResNet18\n",
        "model_fc, losses = train_model_fc(model_fc, dataloaders, criterion, optimizer_fc,\n",
        "                         exp_lr_scheduler, num_epochs=10)"
      ],
      "execution_count": 71,
      "outputs": [
        {
          "output_type": "stream",
          "text": [
            "Epoch 0/9\n",
            "----------\n",
            "train phase\n",
            "Batch 100 / 500.0"
          ],
          "name": "stdout"
        },
        {
          "output_type": "stream",
          "text": [
            "/usr/local/lib/python3.6/dist-packages/PIL/Image.py:914: UserWarning: Palette images with Transparency   expressed in bytes should be converted to RGBA images\n",
            "  'to RGBA images')\n"
          ],
          "name": "stderr"
        },
        {
          "output_type": "stream",
          "text": [
            "Batch 500 / 500.0train Loss: 7.7216\n",
            "val phase\n",
            "Batch 125 / 125.0val Loss: 1.5538\n",
            "\n",
            "Epoch 1/9\n",
            "----------\n",
            "train phase\n",
            "Batch 500 / 500.0train Loss: 5.1286\n",
            "val phase\n",
            "Batch 125 / 125.0val Loss: 0.9871\n",
            "\n",
            "Epoch 2/9\n",
            "----------\n",
            "train phase\n",
            "Batch 500 / 500.0train Loss: 4.4560\n",
            "val phase\n",
            "Batch 125 / 125.0val Loss: 1.2669\n",
            "\n",
            "Epoch 3/9\n",
            "----------\n",
            "train phase\n",
            "Batch 500 / 500.0train Loss: 2.9706\n",
            "val phase\n",
            "Batch 125 / 125.0val Loss: 0.5641\n",
            "\n",
            "Epoch 4/9\n",
            "----------\n",
            "train phase\n",
            "Batch 500 / 500.0train Loss: 2.0061\n",
            "val phase\n",
            "Batch 125 / 125.0val Loss: 0.7048\n",
            "\n",
            "Epoch 5/9\n",
            "----------\n",
            "train phase\n",
            "Batch 500 / 500.0train Loss: 2.0567\n",
            "val phase\n",
            "Batch 125 / 125.0val Loss: 0.7472\n",
            "\n",
            "Epoch 6/9\n",
            "----------\n",
            "train phase\n",
            "Batch 500 / 500.0train Loss: 1.0631\n",
            "val phase\n",
            "Batch 125 / 125.0val Loss: 0.2702\n",
            "\n",
            "Epoch 7/9\n",
            "----------\n",
            "train phase\n",
            "Batch 500 / 500.0train Loss: 0.5109\n",
            "val phase\n",
            "Batch 125 / 125.0val Loss: 0.2416\n",
            "\n",
            "Epoch 8/9\n",
            "----------\n",
            "train phase\n",
            "Batch 500 / 500.0train Loss: 0.4856\n",
            "val phase\n",
            "Batch 125 / 125.0val Loss: 0.2255\n",
            "\n",
            "Epoch 9/9\n",
            "----------\n",
            "train phase\n",
            "Batch 500 / 500.0train Loss: 0.3839\n",
            "val phase\n",
            "Batch 125 / 125.0val Loss: 0.2350\n",
            "\n",
            "Training complete in 13m 21s\n",
            "Best val Acc: 0.225488\n"
          ],
          "name": "stdout"
        },
        {
          "output_type": "display_data",
          "data": {
            "image/png": "[encoded data removed]",
            "text/plain": [
              "<Figure size 432x288 with 1 Axes>"
            ]
          },
          "metadata": {
            "tags": []
          }
        }
      ]
    },
    {
      "cell_type": "code",
      "metadata": {
        "id": "zGN8KFFwIe9M",
        "colab_type": "code",
        "colab": {}
      },
      "source": [
        "torch.save(model_fc, os.path.join(root_folder, 'model_fc.torch'))"
      ],
      "execution_count": 0,
      "outputs": []
    },
    {
      "cell_type": "code",
      "metadata": {
        "id": "alV9QiTPWeeb",
        "colab_type": "code",
        "colab": {
          "base_uri": "https://localhost:8080/",
          "height": 295
        },
        "outputId": "bf5e4ab9-3e07-4ae5-f972-3d969e34ee35"
      },
      "source": [
        "drawGraphs(losses)"
      ],
      "execution_count": 74,
      "outputs": [
        {
          "output_type": "display_data",
          "data": {
            "image/png": "[encoded data removed]",
            "text/plain": [
              "<Figure size 432x288 with 1 Axes>"
            ]
          },
          "metadata": {
            "tags": []
          }
        }
      ]
    },
    {
      "cell_type": "markdown",
      "metadata": {
        "id": "6G-I3LZCNeXC",
        "colab_type": "text"
      },
      "source": [
        "## Testing the model with images"
      ]
    },
    {
      "cell_type": "code",
      "metadata": {
        "id": "AxGHTcCSNgUh",
        "colab_type": "code",
        "colab": {
          "base_uri": "https://localhost:8080/",
          "height": 207
        },
        "outputId": "3a83c62c-9610-481f-b9cc-d4034b4e76fd"
      },
      "source": [
        "def resize_image(image):\n",
        "    image = transform.resize(image, (224, 224, 3))\n",
        "        \n",
        "    # swap color axis because\n",
        "    # numpy image: H x W x C\n",
        "    # torch image: C X H X W\n",
        "    image = image.transpose((2, 0, 1))\n",
        "    image = torch.from_numpy(np.array([image]))\n",
        "    return image\n",
        "\n",
        "def get_ingredients_from_matrix(dataset, ingredients):\n",
        "    results = []\n",
        "    for index, ingredient in enumerate(ingredients):\n",
        "        if (ingredient):\n",
        "            results.append(dataset.ingredients[index])\n",
        "    return results\n",
        "            \n",
        "def denormalize_nutritients(dataset, nutritients):\n",
        "    nutritients = dataset.scaler.inverse_transform([nutritients])[0]\n",
        "    return {\n",
        "        'calories': nutritients[0],\n",
        "        'fat': nutritients[1],\n",
        "        'carbs': nutritients[2],\n",
        "        'protein': nutritients[3],\n",
        "    }\n",
        "\n",
        "def run_model(model_conv, model_fc, dataset, image):\n",
        "    image = resize_image(image)\n",
        "    model_conv.eval()\n",
        "    model_fc.eval()\n",
        "    image = image.float()\n",
        "    image = image.to(device)\n",
        "    outputs_conv = model_conv(image)\n",
        "    \n",
        "    outputs_nutritient = model_fc(outputs_conv)\n",
        "    \n",
        "    outputs_nutritient = outputs_nutritient.detach().cpu().numpy()[0]\n",
        "    print(outputs_nutritient)\n",
        "    outputs_conv = outputs_conv.detach().cpu().numpy()[0]\n",
        "    threshold = 0.95\n",
        "    outputs_conv[outputs_conv >= threshold] = 1\n",
        "    outputs_conv[outputs_conv < threshold] = 0\n",
        "    \n",
        "    ingredients = get_ingredients_from_matrix(dataset, outputs_conv)\n",
        "    nutritients = denormalize_nutritients(dataset, outputs_nutritient)\n",
        "    return ingredients, nutritients\n",
        "\n",
        "def test_models(image_name):\n",
        "    image_path = os.path.join(root_folder, image_name)\n",
        "    image = io.imread(image_path)\n",
        "    ingredients, nutritients = run_model(model_conv, model_fc, image_dataset, image)\n",
        "    return ingredients, nutritients\n",
        "\n",
        "test_images = ['nohut-yemegi.png', 'imam-bayildi.jpg']\n",
        "for test_image in test_images:\n",
        "    print('Testing {}'.format(test_image))\n",
        "    ingredients, nutritions = test_models(test_image)\n",
        "    print(ingredients)\n",
        "    print(nutritions)\n",
        "    print('-' * 20)"
      ],
      "execution_count": 73,
      "outputs": [
        {
          "output_type": "stream",
          "text": [
            "Testing nohut-yemegi.png\n",
            "[0.14840288 0.1047461  0.09721258 0.06526579]\n",
            "['Bouillon cube', 'Cornbread', 'Foie gras', 'French fries', 'Garlic', 'Grits', 'Half and half', 'Mango', 'Nước chấm', 'Plum tomato', 'Red cabbage', 'Royal icing', 'Spare ribs', 'Sriracha sauce', 'Vegetable oil', 'Yellow onion']\n",
            "{'calories': 1620.2380155631333, 'fat': 106.28377175028066, 'carbs': 127.12932003173113, 'protein': 72.40178777032554}\n",
            "--------------------\n",
            "Testing imam-bayildi.jpg\n",
            "[0.11248967 0.12807585 0.04610611 0.04478601]\n",
            "['Acini di pepe', 'Ale', 'Banana', 'Carrot', 'Cocoa bean', 'Corn kernel', 'Herb', 'Rib eye steak', 'Tart']\n",
            "{'calories': 1228.143525474832, 'fat': 129.95600085029093, 'carbs': 60.29507010272733, 'protein': 49.682796556562295}\n",
            "--------------------\n"
          ],
          "name": "stdout"
        }
      ]
    },
    {
      "cell_type": "code",
      "metadata": {
        "id": "nKnooKN-XM-7",
        "colab_type": "code",
        "colab": {}
      },
      "source": [
        ""
      ],
      "execution_count": 0,
      "outputs": []
    }
  ]
}